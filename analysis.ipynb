{
 "cells": [
  {
   "cell_type": "code",
   "execution_count": 33,
   "metadata": {
    "collapsed": false
   },
   "outputs": [],
   "source": [
    "import ipywidgets as ipw\n",
    "\n",
    "from IPython.display import display\n",
    "from pathlib import Path"
   ]
  },
  {
   "cell_type": "code",
   "execution_count": 71,
   "metadata": {
    "collapsed": false
   },
   "outputs": [],
   "source": [
    "def on_path_change(value):\n",
    "    path = Path(value['new'])\n",
    "    f = sorted([a.name for a in path.glob('*.h5')])\n",
    "    if len(f) > 0:\n",
    "        ctrl_file.options = f\n",
    "        ctrl_file.disabled = False\n",
    "        btn_select.disabled = False\n",
    "    else:\n",
    "        ctrl_file.options = []\n",
    "        ctrl_file.disabled = True\n",
    "        ctrl_file.selecter_label = ''\n",
    "        btn_select.disabled = True\n",
    "        \n",
    "ctrl_path = ipw.Text(\n",
    "    placeholder='Path to data directory',\n",
    "    description='Path:',\n",
    "    disabled=False\n",
    ")\n",
    "\n",
    "ctrl_file = ipw.Dropdown(\n",
    "    options=[],\n",
    "    description='Select file:',\n",
    "    disabled=True\n",
    ")\n",
    "\n",
    "btn_select = ipw.Button(\n",
    "    description='Accept',\n",
    "    disabled=True\n",
    "\n",
    ")\n",
    "\n",
    "ctrl_path.observe(on_path_change, names='value')\n",
    "ipw.VBox([ipw.HBox([ctrl_path, ctrl_file]), ipw.HBox([btn_select])])\n"
   ]
  }
 ],
 "metadata": {
  "anaconda-cloud": {},
  "kernelspec": {
   "display_name": "Python [conda env:effelsberg]",
   "language": "python",
   "name": "conda-env-effelsberg-py"
  },
  "language_info": {
   "codemirror_mode": {
    "name": "ipython",
    "version": 3
   },
   "file_extension": ".py",
   "mimetype": "text/x-python",
   "name": "python",
   "nbconvert_exporter": "python",
   "pygments_lexer": "ipython3",
   "version": "3.6.0"
  },
  "widgets": {
   "state": {
    "0c1cfec2ebfe492b9ca7304f130ccd31": {
     "views": [
      {
       "cell_index": 1
      }
     ]
    },
    "6c785deef8d5463a9d86e0e9dcd7f01e": {
     "views": [
      {
       "cell_index": 1
      }
     ]
    },
    "739dec55c00b4a42b53ba4c44ecbf604": {
     "views": [
      {
       "cell_index": 1
      }
     ]
    },
    "878b56fc5e1249dda44d893465466277": {
     "views": [
      {
       "cell_index": 1
      }
     ]
    },
    "f5757a46b8ed40588140c2c0c046d429": {
     "views": [
      {
       "cell_index": 1
      }
     ]
    }
   },
   "version": "1.2.0"
  }
 },
 "nbformat": 4,
 "nbformat_minor": 1
}
