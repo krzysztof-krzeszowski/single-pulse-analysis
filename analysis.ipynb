{
 "cells": [
  {
   "cell_type": "code",
   "execution_count": 1,
   "metadata": {
    "collapsed": false
   },
   "outputs": [
    {
     "data": {
      "text/html": [
       "<script>\n",
       "code_show=true; \n",
       "function code_toggle() {\n",
       " if (code_show){\n",
       " $('div.input').hide();\n",
       " } else {\n",
       " $('div.input').show();\n",
       " }\n",
       " code_show = !code_show\n",
       "} \n",
       "$( document ).ready(code_toggle);\n",
       "</script>\n",
       "The raw code for this IPython notebook is by default hidden for easier reading.\n",
       "To toggle on/off the raw code, click <a href=\"javascript:code_toggle()\">here</a>."
      ],
      "text/plain": [
       "<IPython.core.display.HTML object>"
      ]
     },
     "execution_count": 1,
     "metadata": {},
     "output_type": "execute_result"
    }
   ],
   "source": [
    "\"\"\" \n",
    "Code hiding:\n",
    "http://blog.nextgenetics.net/?e=102\n",
    "\"\"\"\n",
    "from IPython.display import HTML\n",
    "HTML('''<script>\n",
    "code_show=true; \n",
    "function code_toggle() {\n",
    " if (code_show){\n",
    " $('div.input').hide();\n",
    " } else {\n",
    " $('div.input').show();\n",
    " }\n",
    " code_show = !code_show\n",
    "} \n",
    "$( document ).ready(code_toggle);\n",
    "</script>\n",
    "The raw code for this IPython notebook is by default hidden for easier reading.\n",
    "To toggle on/off the raw code, click <a href=\"javascript:code_toggle()\">here</a>.''')"
   ]
  },
  {
   "cell_type": "code",
   "execution_count": 2,
   "metadata": {
    "collapsed": false
   },
   "outputs": [],
   "source": [
    "%matplotlib nbagg\n",
    "import ipywidgets as ipw\n",
    "import matplotlib.pyplot as plt\n",
    "\n",
    "from IPython.display import display\n",
    "from pathlib import Path\n",
    "\n",
    "import functions as fn\n",
    "\n",
    "pulses = None\n",
    "files = None\n",
    "f = None"
   ]
  },
  {
   "cell_type": "code",
   "execution_count": 3,
   "metadata": {
    "collapsed": false
   },
   "outputs": [],
   "source": [
    "def enable_controls():\n",
    "    ctrl_min_pulse.disabled = False\n",
    "    ctrl_max_pulse.disabled = False\n",
    "    btn_plot_mean.disabled = False\n",
    "\n",
    "def on_max_pulse_change(value):\n",
    "    if value['new'] < ctrl_min_pulse.value:\n",
    "        ctrl_max_pulse.value = ctrl_min_pulse.value\n",
    "    elif value['new'] > ctrl_n_pulses.value:\n",
    "        ctrl_max_pulse.value = ctrl_n_pulses.value\n",
    " \n",
    "def on_min_pulse_change(value):\n",
    "    if value['new'] < 1:\n",
    "        ctrl_min_pulse.value = 1\n",
    "    elif value['new'] > ctrl_max_pulse.value:\n",
    "        ctrl_min_pulse.value = ctrl_max_pulse.value  \n",
    "\n",
    "def on_path_change(value):\n",
    "    global files\n",
    "    global f\n",
    "    path = Path(value['new'])\n",
    "    files = sorted(path.glob('*.h5'))\n",
    "    f = sorted([a.name for a in files])\n",
    "    if len(f) > 0:\n",
    "        ctrl_file.options = f\n",
    "        ctrl_file.disabled = False\n",
    "        btn_select.disabled = False\n",
    "    else:\n",
    "        ctrl_file.options = []\n",
    "        ctrl_file.disabled = True\n",
    "        btn_select.disabled = True\n",
    "\n",
    "def read_data(b):\n",
    "    global pulses\n",
    "    to_read = files[f.index(ctrl_file.value)]\n",
    "    pulses = fn.read_data(to_read)\n",
    "    ctrl_n_pulses.value = pulses.shape[0]\n",
    "    ctrl_n_bins.value = pulses.shape[1]\n",
    "    \n",
    "    enable_controls()\n",
    "    \n",
    "    ctrl_max_pulse.value = ctrl_n_pulses.value\n",
    "    ctrl_min_pulse.value = 1\n",
    "    \n",
    "ctrl_path = ipw.Text(\n",
    "    placeholder='Path to data directory',\n",
    "    description='Path:',\n",
    "    disabled=False\n",
    ")\n",
    "\n",
    "ctrl_file = ipw.Dropdown(\n",
    "    options=[],\n",
    "    description='Select file:',\n",
    "    disabled=True\n",
    ")\n",
    "\n",
    "btn_select = ipw.Button(\n",
    "    description='Accept',\n",
    "    disabled=True\n",
    "\n",
    ")\n",
    "\n",
    "ctrl_n_pulses = ipw.IntText(\n",
    "    description='Number of pulses',\n",
    "    disabled=True,\n",
    "    value = 0\n",
    ")\n",
    "\n",
    "ctrl_n_bins = ipw.IntText(\n",
    "    description='Binning',\n",
    "    disabled=True,\n",
    "    value=0\n",
    ")\n",
    "\n",
    "ctrl_min_pulse = ipw.IntText(\n",
    "    description='From:',\n",
    "    disabled=True,\n",
    "    value=1\n",
    ")\n",
    "\n",
    "ctrl_max_pulse = ipw.IntText(\n",
    "    description='To:',\n",
    "    disabled=True,\n",
    "    value=1\n",
    ")\n",
    "\n",
    "btn_plot_mean = ipw.Button(\n",
    "    description='Plot mean profile',\n",
    "    disabled=True\n",
    ")"
   ]
  },
  {
   "cell_type": "code",
   "execution_count": 4,
   "metadata": {
    "collapsed": false
   },
   "outputs": [],
   "source": [
    "# events handling\n",
    "ctrl_path.observe(on_path_change, names='value')\n",
    "btn_select.on_click(read_data)\n",
    "ctrl_max_pulse.observe(on_max_pulse_change, names='value')\n",
    "ctrl_min_pulse.observe(on_min_pulse_change, names='value')\n",
    "\n",
    "#layout\n",
    "l1 = ipw.HBox([ctrl_path, ctrl_file, btn_select])\n",
    "l2 = ipw.HBox([ctrl_n_pulses, ctrl_n_bins])\n",
    "l3 = ipw.HBox([ctrl_min_pulse, ctrl_max_pulse, btn_plot_mean])\n",
    "ipw.VBox([l1, l2, l3])"
   ]
  }
 ],
 "metadata": {
  "anaconda-cloud": {},
  "kernelspec": {
   "display_name": "Python [conda env:effelsberg]",
   "language": "python",
   "name": "conda-env-effelsberg-py"
  },
  "language_info": {
   "codemirror_mode": {
    "name": "ipython",
    "version": 3
   },
   "file_extension": ".py",
   "mimetype": "text/x-python",
   "name": "python",
   "nbconvert_exporter": "python",
   "pygments_lexer": "ipython3",
   "version": "3.6.0"
  },
  "widgets": {
   "state": {
    "31eee4fb966f4d15a9c3846cd3eb4783": {
     "views": [
      {
       "cell_index": 3
      }
     ]
    }
   },
   "version": "1.2.0"
  }
 },
 "nbformat": 4,
 "nbformat_minor": 1
}
